{
 "cells": [
  {
   "cell_type": "markdown",
   "metadata": {},
   "source": [
    "## Idea 1: SF rental and housing market \n",
    "\n",
    "#### Goal : Using historical housing data and stock market data to see whether there is a correlation.\n",
    "#### Data Source:\n",
    "1. Case-Shiller San Francisco Housing index http://us.spindices.com/indices/real-estate/sp-corelogic-case-shiller-san-francisco-home-price-nsa-index\n",
    "2. S&P 500 Index http://us.spindices.com/indices/equity/sp-500\n",
    "3. Zillow http://www.zillow.com/ Rental and Sales scraping"
   ]
  },
  {
   "cell_type": "markdown",
   "metadata": {},
   "source": [
    "## Idea 2: SF homeless data\n",
    "\n",
    "#### Goal : Incorporate current homeless population data and current and ongoing resources/constructions for homeless people to predict their future need.\n",
    "#### Data Source: https://www.hudexchange.info/resource/3031/pit-and-hic-data-since-2007/"
   ]
  },
  {
   "cell_type": "markdown",
   "metadata": {},
   "source": [
    "## Idea 3: US election data\n",
    "\n",
    "#### Goal : How are income level, education level, gender and race correlated to election results. Rather than using poll results as a predictor, is there a better design matrix?\n",
    "#### Data Source: http://www.electproject.org/home/voter-turnout/voter-turnout-data"
   ]
  },
  {
   "cell_type": "markdown",
   "metadata": {},
   "source": [
    "## Idea 4: US supermarket scanner data \n",
    "\n",
    "#### Goal : To predict demand and price of certain product using historical data.\n",
    "#### Data Source: Still working on this. Found two sources that I can purchase data from.\n",
    "1. http://www.nielsen.com/us/en/solutions/measurement/retail-measurement.html\n",
    "2. https://www.iriworldwide.com/"
   ]
  }
 ],
 "metadata": {
  "anaconda-cloud": {},
  "kernelspec": {
   "display_name": "Python [conda env:dsi]",
   "language": "python",
   "name": "conda-env-dsi-py"
  },
  "language_info": {
   "codemirror_mode": {
    "name": "ipython",
    "version": 2
   },
   "file_extension": ".py",
   "mimetype": "text/x-python",
   "name": "python",
   "nbconvert_exporter": "python",
   "pygments_lexer": "ipython2",
   "version": "2.7.12"
  }
 },
 "nbformat": 4,
 "nbformat_minor": 1
}
